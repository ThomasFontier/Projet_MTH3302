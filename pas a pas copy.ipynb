{
 "cells": [
  {
   "cell_type": "markdown",
   "metadata": {},
   "source": [
    "# MTH3302 : Méthodes probabilistes et statistiques pour l'I.A.\n",
    "\n",
    "Jonathan Jalbert<br/>\n",
    "Professeur agrégé au Département de mathématiques et de génie industriel<br/>\n",
    "Polytechnique Montréal<br/>\n",
    "\n",
    "\n",
    "---\n",
    "# Projet H2024 : Prédiction du prix de vente des embarcations de plaisance\n",
    "\n",
    "\n",
    "Le développement d'un modèle statistique pour prédire le prix de vente des embarcations de plaisance serait très utile tant pour les acheteurs que pour les vendeurs. Un tel modèle pourrait fournir des indications sur les facteurs influençant les prix des embarcations, englobant des variables telles que le type, l'âge, les dimensions, l'état, la localisation géographique, les tendances du marché, etc. En exploitant les données historiques de vente et les techniques statistiques vues dans le cours, le modèle pourrait offrir des estimations de prix précises, aidant ainsi les vendeurs à fixer des tarifs compétitifs et les acheteurs à prendre des décisions d'achat éclairées. De plus, cet outil prédictif pourrait contribuer à la transparence du marché, facilitant les transactions et favorisant la confiance entre les acheteurs et les vendeurs.\n",
    "\n",
    "Vous avez accès à une vaste banque de données concernant le prix de vente des embarcations entre les années 2003 et 2019 sur le site BoatTrader.com. L'ensemble d'entraînement est constitué de 12 000 embarcations pour lesquelles le prix de vente est connu. Vous aurez à développer un modèle statisique permettant la prédcition du prix de vente des 3000 embarcations de l'ensemble de test. \n",
    "\n",
    "**But** : Prédire le prix de vente des bateaux de l'ensemble de test en fonction de leurs caractéristiques.\n",
    "\n",
    "**Objectifs spécifiques non exhaustifs**\n",
    "1. Effectuer une analyse exploratoire des données afin d'extraire qualitativement certains les potentiels liens entre les variables.\n",
    "2. Élaborer plusieurs modèles prédictifs pour le prix de vente en fonction des caractéristiques fournies.\n",
    "3. Sélectionner le meilleur modèle prédicitif à l'aide d'un critère choisi.\n",
    "4. Exploiter le modèle choisi pour effectuer vos prédictions.\n",
    "\n",
    "Ces étapes peuvent être recommencées autant de fois que nécessaire afin d'obtenir le meilleur modèle prédictif possible.\n",
    "\n",
    "La description du projet est disponible à l'adresse suivante :\n",
    "https://www.kaggle.com/t/4e9e19596de34658865880b2511fd073\n",
    "\n",
    "\n",
    "Ce calepin Jupyter de base permet de charger les données fournies. La dernière section détaille la génération du fichier des prédictions afin de le soumettre sur Kaggle dans le bon format.\n",
    "\n",
    "### Données\n",
    "\n",
    "Dans un premier temps, vous devrez récupérer les données sur Kaggle ou sur le répertoire GitHub du cours. Les fichiers disponibles sont les suivants :\n",
    "- train.csv\n",
    "- test.csv\n",
    "\n",
    "**Déposez ces fichiers dans le répertoire de ce calepin.**\n",
    "\n",
    "Le fichier *train.csv* contient les caractéristiques et les prix de vente de 12000 bateaux affichés sur le site BoatTrader.com. Voici la description des caractérisiques fournies :\n",
    "\n",
    "- ID : identifiant\n",
    "- Type : type de l'embarcation\n",
    "- Classe : classe de l'embarcation\n",
    "- Fabricant\n",
    "- Modèle\n",
    "- Année : année de fabrication\n",
    "- Condition : embarcation neuve ou usagée\n",
    "- Longueur : longueur de l'embarcation en pieds\n",
    "- Largeur : largeur de l'embarcation en pieds\n",
    "- Poids : poids de l'embarcation en lbs\n",
    "- Materiau : matériau de la coque\n",
    "- Carburant : type de carburant utilisé\n",
    "- Nombre_Moteurs\n",
    "- Puissance_Moteur : puissance des moteur en HP\n",
    "- Type_Moteur\n",
    "- État : état des USA où l'embarcation est en vente\n",
    "- Mois_Vente : mois de la mise en vente\n",
    "- Année_Vente : année de la mise en vente\n",
    "- Prix : prix de vente en USD\n",
    "\n",
    "Le fichier *test.csv* contient les caractérisiques de 3000 embarcations 2023 mais pas les prix de vente correspondans. Vous devez prédire le prix de vente pour chacune de ces embarcations. Le fichier contient aussi l'identifiant (:ID) pour les prédictions. La qualité de vos prédictions sera ensuite évaluée avec le [*Root Mean Squared Log Error*](https://www.kaggle.com/code/carlolepelaars/understanding-the-metric-rmsle) lorsque vous les téléverserez sur Kaggle. Vos prédictions seront comparées à celles des autres équipes de la classe.\n",
    "\n",
    "\n",
    "### Consignes\n",
    "\n",
    "- Vous devez constituer une équipe de 3 à 5 personnes.\n",
    "- Au moins une solution doit être proposée sur Kaggle.\n",
    "- Utilisez votre identifiant d'équipe pour téléverser vos prédictions sur Kaggle.\n",
    "- Un seul calepin *.ipynb* par équipe doit être remis. Ce fichier devra documenter et illustrer la procédure qui vous a permis de produire vos meilleures prédictions. Ce fichier constitue le rapport final du projet.\n",
    "- Le langage Julia doit être utilisé.\n",
    "- Votre démarche doit être rigoureusement justifiée (consultez la grille de correction pour vous orienter).\n",
    "\n",
    "### Quelques conseils\n",
    "\n",
    "Votre calepin doit **permettre à une personne à l'extérieur de l'équipe de comprendre votre démarche et de reproduire vos résultats**. Par exemple, une bonne façon de faire consiste à expliquer dans une cellule de texte la tâche qui est accomplie dans la cellule de code suivante. \n",
    "\n",
    "Je vous encourage fortement à faire une **analyse exploratoire** des données pour développer une meilleure expertise sur le problème. C'est une étape qui est toujours négligée mais qui est essentielle. C'est avec l'analyse exploratoire que vous viendra des idées d'amélioration, comme par exemple créer de nouvelles variables explicatives.\n",
    "\n",
    "Vous pouvez utiliser directement tout ce qui se trouve dans les notes de cours sans explication et toutes les librairies utilisées dans le cours (incluant mes fonctions).\n",
    "\n",
    "Ce calepin contient un modèle très simple de prédiction : on n'utilise qu'une seule variable explicative. Ce sera votre travail d'**améliorer ces prédictions** avec la méthode et les variables de votre choix.\n",
    "\n",
    "S'il y a des **données manquantes**, ce sera à vous de traiter ce problème. Vous devriez développer une méthode d'imputation (de remplacement) des données manquantes.\n",
    "\n",
    "**Attention aux données aberrantes**. Elles peuvent faire dérailler tous le modèle prédictif si elle ne sont pas prises en compte.\n",
    "\n",
    "Prenez la peine de **documenter succinctement les essais infructueux**. Ce n'est pas nécessaire de les expliquer en détails, mais c'est important de les mentionner dans la discussion avec une raison possible de leur échec. De cette façon, une personne qui reprendra votre travail dans le futur ne perdra pas de temps à réessayer une méthode infructueuse déjà testée.\n",
    "\n",
    "Vous pouvez aussi indiquer dans votre rapport les raisons qui vous font croire pourquoi une méthode a moins bien performée de ce qui était attendu. Vous pouvez également mentionner ce que vous auriez pu tenter si vous aviez eu plus de temps ou plus de données. L'idée est de guider l'analyste qui prendrait la relève de votre travail.\n",
    "\n",
    "Vous êtes **limités à deux soumissions par jour et par équipe sur Kaggle**. Je vous suggère donc de bien tester vos modèles localement et de ne téléverser que vos meilleurs prédictions de la journée."
   ]
  },
  {
   "cell_type": "code",
   "execution_count": null,
   "id": "71b37270",
   "metadata": {},
   "outputs": [],
   "source": [
    "import Pkg; Pkg.add(\"StatsPlots\")"
   ]
  },
  {
   "cell_type": "code",
   "execution_count": null,
   "id": "2cb851ce",
   "metadata": {},
   "outputs": [],
   "source": [
    "using CSV, DataFrames, Dates, Gadfly, GLM, Statistics, Plots, StatsPlots"
   ]
  },
  {
   "cell_type": "markdown",
   "id": "4fe21cd9",
   "metadata": {},
   "source": [
    "---\n",
    "## 1. Chargement de données"
   ]
  },
  {
   "cell_type": "code",
   "execution_count": null,
   "id": "a415cb16",
   "metadata": {},
   "outputs": [],
   "source": [
    "train = CSV.read(\"data/train.csv\", DataFrame)\n",
    "first(train, 5)"
   ]
  },
  {
   "cell_type": "markdown",
   "id": "efa56a91",
   "metadata": {},
   "source": [
    "---\n",
    "## 2. Analyse exploratoire\n",
    "\n",
    "Cette section consitue une analyse exploratoire superficielle permettant de se familiariser avec les données. C'est une analyse exploratoire sommaire. Je vous encourage fortement à poursuivre cette analyse."
   ]
  },
  {
   "cell_type": "code",
   "execution_count": null,
   "id": "fd775ff9",
   "metadata": {},
   "outputs": [],
   "source": [
    "describe(train)"
   ]
  },
  {
   "cell_type": "markdown",
   "id": "89d4e078",
   "metadata": {},
   "source": [
    "Cette analyse générale sur le dataset des données nous permet notamment de voir les colonnes pour lesquelles nous n'avons pas toutes les données\n",
    "En effet, Modèle/Largeur/Poids/Carburant/Puissance_Moteur/Type_Moteur ont des Union avec Missing en Type ce qui montre que pour certaines lignes nous n'avons pas les informations de ces colonnes"
   ]
  },
  {
   "cell_type": "markdown",
   "id": "eb0ec13d",
   "metadata": {},
   "source": [
    "Maintenant nous nous intéressons à savoir le nombre de valeurs possibles pour les différentes colonnes"
   ]
  },
  {
   "cell_type": "code",
   "execution_count": null,
   "id": "9358d598",
   "metadata": {},
   "outputs": [],
   "source": [
    "println(\"Taille train : $(nrow(train))\")\n",
    "println(\"Nombre de types différents : $(length(unique(train.Type)))\")\n",
    "println(\"Nombre de classes différents : $(length(unique(train.Classe)))\")\n",
    "println(\"Nombre de fabriquant différents : $(length(unique(train.Fabricant)))\")\n",
    "println(\"Nombre de modèles différents : $(length(unique(train.Modèle)))\")\n",
    "println(\"Nombre de années différents : $(length(unique(train.Année)))\")\n",
    "println(\"Nombre de condition différents : $(length(unique(train.Condition)))\")\n",
    "println(\"Nombre de matériau différents : $(length(unique(train.Materiau)))\")\n",
    "println(\"Nombre de carburants différents : $(length(unique(train.Carburant)))\")\n",
    "println(\"Nombre de type de moteur différents : $(length(unique(train.Type_Moteur)))\")\n",
    "println(\"Nombre de état différents : $(length(unique(train.État)))\")"
   ]
  },
  {
   "cell_type": "markdown",
   "id": "8f098bc5",
   "metadata": {},
   "source": [
    "Nous souhaitons désormais savoir le nombre de 'Missing' pour les différentes colonnes"
   ]
  },
  {
   "cell_type": "code",
   "execution_count": null,
   "id": "4176915a",
   "metadata": {},
   "outputs": [],
   "source": [
    "train_without_missing_poids = dropmissing(train, :Poids)\n",
    "println(\"Nombre de missing poids : $(nrow(train)-nrow(train_without_missing_poids))\")\n",
    "\n",
    "train_without_missing_largeur = dropmissing(train, :Largeur)\n",
    "println(\"Nombre de missing largeur : $(nrow(train)-nrow(train_without_missing_largeur))\")\n",
    "\n",
    "train_without_missing_modele = dropmissing(train, :Modèle)\n",
    "println(\"Nombre de missing modele : $(nrow(train)-nrow(train_without_missing_modele))\")\n",
    "\n",
    "train_without_missing_carburant = dropmissing(train, :Carburant)\n",
    "println(\"Nombre de missing carburant : $(nrow(train)-nrow(train_without_missing_carburant))\")\n",
    "\n",
    "train_without_missing_Puissance_Moteur = dropmissing(train, :Puissance_Moteur)\n",
    "println(\"Nombre de missing puissance moteur : $(nrow(train)-nrow(train_without_missing_Puissance_Moteur))\")\n",
    "\n",
    "train_without_missing_Type_Moteur = dropmissing(train, :Type_Moteur)\n",
    "println(\"Nombre de missing type moteur : $(nrow(train)-nrow(train_without_missing_Type_Moteur))\")\n"
   ]
  },
  {
   "cell_type": "markdown",
   "id": "753d0907",
   "metadata": {},
   "source": [
    "On remarque que le nombre de missing des colonnes Poids, Largeur, Puissance_Moteur, Type_Moteur sont importants\n",
    "Par contre pour les colonnes Modèle et Carburant ils sont moins importants\n",
    "Étant donné le grand nombre de données dans le dataset, nous prenons la décision de retirer les lignes pour lesquelles nous avons des 'Missing' pour Modèle et/ou Carburant, considérant que le nombre de lignes perdues est négligeable"
   ]
  },
  {
   "cell_type": "code",
   "execution_count": null,
   "id": "c47c4922",
   "metadata": {},
   "outputs": [],
   "source": [
    "train = dropmissing(train, [:Modèle, :Carburant])"
   ]
  },
  {
   "cell_type": "markdown",
   "id": "7ced0e98",
   "metadata": {},
   "source": [
    "Nous refaisons une analyse du nombre de 'Missing' des autres colonnes car il pourrait réduire, en effet, il se pourrait que toutes les lignes qui avaient des 'Missing' pour Modèle et/ou Carburant avaient des 'Missing' aussi pour les autres colonnes"
   ]
  },
  {
   "cell_type": "code",
   "execution_count": null,
   "id": "80babe9a",
   "metadata": {},
   "outputs": [],
   "source": [
    "println(\"Nombre restants : $(nrow(train))\")\n",
    "\n",
    "train_without_missing_poids = dropmissing(train, :Poids)\n",
    "println(\"Nombre de missing poids : $(nrow(train)-nrow(train_without_missing_poids))\")\n",
    "\n",
    "train_without_missing_largeur = dropmissing(train, :Largeur)\n",
    "println(\"Nombre de missing largeur : $(nrow(train)-nrow(train_without_missing_largeur))\")\n",
    "\n",
    "train_without_missing_Puissance_Moteur = dropmissing(train, :Puissance_Moteur)\n",
    "println(\"Nombre de missing puissance moteur : $(nrow(train)-nrow(train_without_missing_Puissance_Moteur))\")\n",
    "\n",
    "train_without_missing_Type_Moteur = dropmissing(train, :Type_Moteur)\n",
    "println(\"Nombre de missing type moteur : $(nrow(train)-nrow(train_without_missing_Type_Moteur))\")\n"
   ]
  },
  {
   "cell_type": "markdown",
   "id": "6c81d1aa",
   "metadata": {},
   "source": [
    "Effectivement, nous remarquons que le nombre de 'Missing' des différentes colonnes a diminué\n",
    "On peut supposer que dans la création du dataset, lorsqu'il manquait une information sur une vente d'embarcation, il y avait généralement plusieures informations manquantes"
   ]
  },
  {
   "cell_type": "markdown",
   "id": "e5893426",
   "metadata": {},
   "source": [
    "#### 2.2 Analyse des distributions des colonnes numériques"
   ]
  },
  {
   "cell_type": "markdown",
   "id": "4e4c5915",
   "metadata": {},
   "source": [
    "Analyse de la colonne de Prix"
   ]
  },
  {
   "cell_type": "code",
   "execution_count": null,
   "id": "765e7131",
   "metadata": {},
   "outputs": [],
   "source": [
    "histogram(train.Prix, bins=50, title=\"Distribution des Prix\", xlabel=\"Prix\", ylabel=\"Nombre\", legend=false)"
   ]
  },
  {
   "cell_type": "code",
   "execution_count": null,
   "id": "abf2a61f",
   "metadata": {},
   "outputs": [],
   "source": [
    "boxplot([\"Prix\"], train.Prix, title=\"Boxplot des Prix\", ylabel=\"Prix\", legend=false)\n"
   ]
  },
  {
   "cell_type": "markdown",
   "id": "f0e076be",
   "metadata": {},
   "source": [
    "Grâce aux deux graphiques précédents, on remarque une grande concentration des prix dans une zone, avec une présence d'outliers dans des prix très élevés.\n",
    "Nous décidons donc de retirer du jeux d'entrainement les prix supérieurs à 1000000"
   ]
  },
  {
   "cell_type": "code",
   "execution_count": null,
   "id": "b6026ee0",
   "metadata": {},
   "outputs": [],
   "source": [
    "filtered_train = filter(row -> row.Prix <= 1000000, train)\n",
    "\n",
    "println(\"Nombre de lignes avant suppression des outliers : $(nrow(train))\")\n",
    "println(\"Nombre de lignes après suppression des outliers : $(nrow(filtered_train))\")\n"
   ]
  },
  {
   "cell_type": "markdown",
   "id": "69df0d86",
   "metadata": {},
   "source": [
    "Analyse de la colonne de Longeur"
   ]
  },
  {
   "cell_type": "code",
   "execution_count": null,
   "id": "ec6681ac",
   "metadata": {},
   "outputs": [],
   "source": [
    "histogram(filtered_train.Longueur, bins=50, title=\"Distribution des Longuerus\", xlabel=\"Longueur\", ylabel=\"Nombre\", legend=false)"
   ]
  },
  {
   "cell_type": "code",
   "execution_count": null,
   "id": "51e379ea",
   "metadata": {},
   "outputs": [],
   "source": [
    "boxplot([\"Longueur\"], filtered_train.Longueur, title=\"Boxplot des Longueur\", ylabel=\"Longueur\", legend=false)\n"
   ]
  },
  {
   "cell_type": "markdown",
   "id": "da102f59",
   "metadata": {},
   "source": [
    "Même chose que pour la colonne Prix, nous remarquons une grande concentration des longeurs entre 0 et 50 puis certaines longueurs au dela\n",
    "Nous décidons donc de retirer les longueurs supérieures à 150"
   ]
  },
  {
   "cell_type": "code",
   "execution_count": null,
   "id": "95413cc8",
   "metadata": {},
   "outputs": [],
   "source": [
    "println(\"Nombre de lignes avant suppression des outliers : $(nrow(filtered_train))\")\n",
    "\n",
    "filtered_train = filter(row -> row.Longueur <= 150, filtered_train)\n",
    "\n",
    "println(\"Nombre de lignes après suppression des outliers : $(nrow(filtered_train))\")\n"
   ]
  },
  {
   "cell_type": "markdown",
   "id": "b2fbcaa2",
   "metadata": {},
   "source": [
    "Analyse de la colonne Largeur"
   ]
  },
  {
   "cell_type": "code",
   "execution_count": null,
   "id": "acf9bad8",
   "metadata": {},
   "outputs": [],
   "source": [
    "histogram(filtered_train.Largeur, bins=50, title=\"Distribution des Largeur\", xlabel=\"Largeur\", ylabel=\"Nombre\", legend=false)"
   ]
  },
  {
   "cell_type": "code",
   "execution_count": null,
   "id": "c7039db9",
   "metadata": {},
   "outputs": [],
   "source": [
    "without_missing_largeur = dropmissing(filtered_train, :Largeur)\n",
    "boxplot([\"Largeur\"], without_missing_largeur.Largeur, title=\"Boxplot des Largeur\", ylabel=\"Largeur\", legend=false)\n"
   ]
  },
  {
   "cell_type": "markdown",
   "id": "3311a322",
   "metadata": {},
   "source": [
    "Sur les deux graphiques précédents nous remarquons, qu'il existe 4 outliers qui ont des largeurs de +800 alors que la majorité de nos largeurs ne dépassent pas 200, nous les retirons du jeux de données"
   ]
  },
  {
   "cell_type": "code",
   "execution_count": null,
   "id": "edc1c284",
   "metadata": {},
   "outputs": [],
   "source": [
    "println(\"Nombre de lignes avant suppression des outliers : $(nrow(filtered_train))\")\n",
    "\n",
    "filtered_train = filter(row -> ismissing(row.Largeur) || row.Largeur <= 200, filtered_train)\n",
    "\n",
    "println(\"Nombre de lignes après suppression des outliers : $(nrow(filtered_train))\")\n"
   ]
  },
  {
   "cell_type": "markdown",
   "id": "df892a8b",
   "metadata": {},
   "source": [
    "Analyse de la colonne Poids"
   ]
  },
  {
   "cell_type": "code",
   "execution_count": null,
   "id": "9728b962",
   "metadata": {},
   "outputs": [],
   "source": [
    "histogram(filtered_train.Poids, bins=50, title=\"Distribution des Poids\", xlabel=\"Poids\", ylabel=\"Nombre\", legend=false)"
   ]
  },
  {
   "cell_type": "code",
   "execution_count": null,
   "id": "2d9561ee",
   "metadata": {},
   "outputs": [],
   "source": [
    "without_missing_poids = dropmissing(filtered_train, :Poids)\n",
    "boxplot([\"Poids\"], without_missing_poids.Poids, title=\"Boxplot des poids\", ylabel=\"Poids\", legend=false)\n"
   ]
  },
  {
   "cell_type": "markdown",
   "id": "485986d1",
   "metadata": {},
   "source": [
    "Nous remarquons la présence de outliers et décidons de prendre la valeur 2.00x10^4 comme valeur threshold"
   ]
  },
  {
   "cell_type": "code",
   "execution_count": null,
   "id": "4a47f7ac",
   "metadata": {},
   "outputs": [],
   "source": [
    "println(\"Nombre de lignes avant suppression des outliers : $(nrow(filtered_train))\")\n",
    "\n",
    "filtered_train = filter(row -> ismissing(row.Poids) || row.Poids <= 20000, filtered_train)\n",
    "\n",
    "println(\"Nombre de lignes après suppression des outliers : $(nrow(filtered_train))\")\n"
   ]
  },
  {
   "cell_type": "markdown",
   "id": "bbfcd1af",
   "metadata": {},
   "source": [
    "### Estimation des coefficients des parametres de la regression lineaire simple pour les variables continues\n",
    "Dans cette section, nous allons explorer les données pour mieux comprendre les relations entre les variables et identifier les tendances et les caractéristiques importantes qui pourraient être utiles pour la modélisation.\n",
    "Puisque nous avons beaucoup de valeurs manquantes pour certaines variables continues, nous utiliserons uniquement les données disponibles pour leur analyse"
   ]
  },
  {
   "cell_type": "markdown",
   "id": "e95615b8",
   "metadata": {},
   "source": [
    "#### Prix en fonction des variables explicatives continues"
   ]
  },
  {
   "cell_type": "code",
   "execution_count": null,
   "id": "ac1c1c7c",
   "metadata": {},
   "outputs": [],
   "source": [
    "target = [:Prix]\n",
    "categorical_features = [:Type, :Classe, :Fabricant, :Modèle, :Condition, :Materiau, :Carburant, :Type_Moteur, :État]\n",
    "continuous_features = [:Année, :Longueur, :Largeur, :Poids, :Nombre_Moteurs, :Puissance_Moteur, :Mois_Vente, :Année_Vente]  \n",
    "categorical_train_data = train[:,append!(categorical_features, target)] \n",
    "continuous_train_data = train[:,append!(continuous_features, target)]                                           "
   ]
  },
  {
   "cell_type": "code",
   "execution_count": null,
   "id": "a456aa1f",
   "metadata": {},
   "outputs": [],
   "source": [
    "using DataFrames\n",
    "function drop_missing_values(X, y)\n",
    "    valid_indices = .!ismissing.(X) .& .!ismissing.(y)\n",
    "    X_clean, y_clean = X[valid_indices], y[valid_indices]\n",
    "    return DataFrame(X = X_clean, Y = y_clean)\n",
    "end"
   ]
  },
  {
   "cell_type": "code",
   "execution_count": null,
   "id": "af25def3",
   "metadata": {},
   "outputs": [],
   "source": [
    "using Gadfly\n",
    "\n",
    "function plot_trend(data, title)\n",
    "    # Plot using Gadfly\n",
    "    Plots.plot(data, x=:X, y=:Y, Geom.point, Guide.title(title))\n",
    "end\n"
   ]
  },
  {
   "cell_type": "code",
   "execution_count": null,
   "id": "f1a2aae3",
   "metadata": {},
   "outputs": [],
   "source": [
    "for feature in names(continuous_train_data)\n",
    "    # Generate and display the plot\n",
    "    # Create a DataFrame suitable for plotting\n",
    "    plot_data = drop_missing_values(continuous_train_data[:, feature], continuous_train_data.Prix)\n",
    "    p = plot_trend(plot_data, \"Tendance de $(feature) vs Prix\")\n",
    "    display(p)  # Explicitly display the plot\n",
    "end"
   ]
  },
  {
   "cell_type": "markdown",
   "id": "dfb59938",
   "metadata": {},
   "source": [
    "#### Estimation des parametres de la regression lineaire simple pour les variables continues"
   ]
  },
  {
   "cell_type": "code",
   "execution_count": null,
   "id": "0cc4617b",
   "metadata": {},
   "outputs": [],
   "source": [
    "function regression_analysis(data)\n",
    "    x₁ = data[!, :X]\n",
    "    y = data[!, :Y]\n",
    "    n = length(y)\n",
    "    # Calcul des statistiques utiles\n",
    "    n = length(y)\n",
    "    x̄₁ = mean(x₁)\n",
    "    ȳ = mean(y)\n",
    "\n",
    "    # Calcul des coefficients de régression (pente et ordonnée à l'origine)\n",
    "    β̂₁ = sum((x₁[i] - x̄₁)*(y[i] - ȳ)  for i=1:n) / sum( (x₁[i] - x̄₁)^2 for i=1:n)\n",
    "    β̂₀ = ȳ - β̂₁*x̄₁\n",
    "\n",
    "    # Affichage des coefficients de régression\n",
    "    println(\"β̂₀ = $β̂₀\")\n",
    "    println(\"β̂₁ = $β̂₁\")\n",
    "\n",
    "    set_default_plot_size(11cm, 8cm)\n",
    "    p = Plots.plot(data, x=:X, y=:Y, Geom.point, intercept = [β̂₀], slope = [β̂₁], Geom.abline(color=\"red\", style=:dash))\n",
    "    \n",
    "    display(p)\n",
    "\n",
    "    ŷ = β̂₀ .+ β̂₁*x₁\n",
    "    e = y - ŷ\n",
    "\n",
    "    SST = sum( (y[i] - ȳ)^2 for i=1:n )  # variabilité totale\n",
    "    SSE = sum( e.^2 )\n",
    "\n",
    "    R² = 1 - SSE/SST\n",
    "\n",
    "    println(\"R² = $R²\")\n",
    "end"
   ]
  },
  {
   "cell_type": "code",
   "execution_count": null,
   "id": "53a21dba",
   "metadata": {},
   "outputs": [],
   "source": [
    "feature = names(continuous_train_data)[1]\n",
    "# Generate and display the plot\n",
    "# Create a DataFrame suitable for plotting\n",
    "plot_data = drop_missing_values(continuous_train_data[:, feature], continuous_train_data.Prix)\n",
    "println(\"Analyse de régression pour $(feature)\")\n",
    "regression_analysis(plot_data)"
   ]
  },
  {
   "cell_type": "code",
   "execution_count": null,
   "id": "d1c73bfe",
   "metadata": {},
   "outputs": [],
   "source": [
    "feature = names(continuous_train_data)[2]\n",
    "# Generate and display the plot\n",
    "# Create a DataFrame suitable for plotting\n",
    "plot_data = drop_missing_values(continuous_train_data[:, feature], continuous_train_data.Prix)\n",
    "println(\"Analyse de régression pour $(feature)\")\n",
    "regression_analysis(plot_data)"
   ]
  },
  {
   "cell_type": "code",
   "execution_count": null,
   "id": "b6bc8618",
   "metadata": {},
   "outputs": [],
   "source": [
    "feature = names(continuous_train_data)[3]\n",
    "# Generate and display the plot\n",
    "# Create a DataFrame suitable for plotting\n",
    "plot_data = drop_missing_values(continuous_train_data[:, feature], continuous_train_data.Prix)\n",
    "println(\"Analyse de régression pour $(feature)\")\n",
    "regression_analysis(plot_data)"
   ]
  },
  {
   "cell_type": "code",
   "execution_count": null,
   "id": "6cbda7d7",
   "metadata": {},
   "outputs": [],
   "source": [
    "feature = names(continuous_train_data)[4]\n",
    "# Generate and display the plot\n",
    "# Create a DataFrame suitable for plotting\n",
    "plot_data = drop_missing_values(continuous_train_data[:, feature], continuous_train_data.Prix)\n",
    "println(\"Analyse de régression pour $(feature)\")\n",
    "regression_analysis(plot_data)"
   ]
  },
  {
   "cell_type": "code",
   "execution_count": null,
   "id": "cbf2ecf1",
   "metadata": {},
   "outputs": [],
   "source": [
    "feature = names(continuous_train_data)[5]\n",
    "# Generate and display the plot\n",
    "# Create a DataFrame suitable for plotting\n",
    "plot_data = drop_missing_values(continuous_train_data[:, feature], continuous_train_data.Prix)\n",
    "println(\"Analyse de régression pour $(feature)\")\n",
    "regression_analysis(plot_data)"
   ]
  },
  {
   "cell_type": "code",
   "execution_count": null,
   "id": "dc0a4d8b",
   "metadata": {},
   "outputs": [],
   "source": [
    "feature = names(continuous_train_data)[6]\n",
    "# Generate and display the plot\n",
    "# Create a DataFrame suitable for plotting\n",
    "plot_data = drop_missing_values(continuous_train_data[:, feature], continuous_train_data.Prix)\n",
    "println(\"Analyse de régression pour $(feature)\")\n",
    "regression_analysis(plot_data)"
   ]
  },
  {
   "cell_type": "code",
   "execution_count": null,
   "id": "9ad0c801",
   "metadata": {},
   "outputs": [],
   "source": [
    "feature = names(continuous_train_data)[7]\n",
    "# Generate and display the plot\n",
    "# Create a DataFrame suitable for plotting\n",
    "plot_data = drop_missing_values(continuous_train_data[:, feature], continuous_train_data.Prix)\n",
    "println(\"Analyse de régression pour $(feature)\")\n",
    "regression_analysis(plot_data)"
   ]
  },
  {
   "cell_type": "code",
   "execution_count": null,
   "id": "27dd4112",
   "metadata": {},
   "outputs": [],
   "source": [
    "feature = names(continuous_train_data)[8]\n",
    "# Generate and display the plot\n",
    "# Create a DataFrame suitable for plotting\n",
    "plot_data = drop_missing_values(continuous_train_data[:, feature], continuous_train_data.Prix)\n",
    "println(\"Analyse de régression pour $(feature)\")\n",
    "regression_analysis(plot_data)"
   ]
  },
  {
   "cell_type": "markdown",
   "id": "1f1340c2",
   "metadata": {},
   "source": [
    "Pour interpréter ces résultats de régression, nous allons examiner les coefficients (β̂₀ et β̂₁), ainsi que le coefficient de détermination (R²) pour chaque analyse. Chaque analyse correspond à une variable dépendante différente.\n",
    "\n",
    "### Régression pour Année\n",
    "- **β̂₀ (intercept) = 262237.56**: Lorsque l'année est égale à 0, la variable dépendante est estimée à 262237.56. Cela n'est généralement pas interprétable directement si \"Année\" est une année réelle (comme 2020, etc.).\n",
    "- **β̂₁ (pente) = -96.78**: Pour chaque augmentation d'une unité dans l'année, la variable dépendante diminue de 96.78. Cela suggère une tendance décroissante par rapport à l'année.\n",
    "- **R² = 0.0000546**: Ce modèle explique seulement 0.00546% de la variance de la variable dépendante, ce qui indique un modèle très faiblement informatif.\n",
    "\n",
    "### Régression pour Longueur\n",
    "- **β̂₀ = -16006.27**\n",
    "- **β̂₁ = 3400.33**: Pour chaque unité augmentée en longueur, la variable dépendante augmente de 3400.33.\n",
    "- **R² = 0.1327**: Ce modèle explique environ 13.27% de la variance, ce qui est meilleur que le premier mais reste modeste.\n",
    "\n",
    "### Régression pour Largeur\n",
    "- **β̂₀ = 80214.65**\n",
    "- **β̂₁ = 41.66**\n",
    "- **R² = 0.0000841**: Explication de la variance très faible, indiquant un modèle peu utile.\n",
    "\n",
    "### Régression pour Poids\n",
    "- **β̂₀ = 30904.22**\n",
    "- **β̂₁ = 7.65**: Une augmentation d'une unité de poids correspond à une augmentation de 7.65 dans la variable dépendante.\n",
    "- **R² = 0.4854**: Près de 48.54% de la variance est expliquée, ce qui en fait un modèle relativement fort.\n",
    "\n",
    "### Régression pour Nombre_Moteurs\n",
    "- **β̂₀ = -66150.67**\n",
    "- **β̂₁ = 123244.83**\n",
    "- **R² = 0.1490**: Explication modeste de la variance.\n",
    "\n",
    "### Régression pour Puissance_Moteur\n",
    "- **β̂₀ = -28736.55**\n",
    "- **β̂₁ = 368.01**: Chaque augmentation unitaire de la puissance du moteur augmente la variable dépendante de 368.01.\n",
    "- **R² = 0.5056**: Plus de la moitié de la variance est expliquée, ce qui est un bon résultat pour ce modèle.\n",
    "\n",
    "### Régression pour Mois_Vente\n",
    "- **β̂₀ = 78946.28**\n",
    "- **β̂₁ = -1634.70**: Une diminution avec chaque mois supplémentaire.\n",
    "- **R² = 0.0011**: Modèle très faiblement explicatif.\n",
    "\n",
    "### Régression pour Année_Vente\n",
    "- **β̂₀ = 2.9013671e7**\n",
    "- **β̂₁ = -14340.23**\n",
    "- **R² = 0.0125**: Encore une fois, un faible niveau d'explication.\n",
    "\n",
    "En général, les modèles pour \"Poids\" et \"Puissance_Moteur\" sont relativement plus performants comparativement aux autres modèles qui montrent peu ou pas de capacité prédictive avec de très faibles valeurs de R²."
   ]
  },
  {
   "cell_type": "markdown",
   "id": "caedb819",
   "metadata": {},
   "source": [
    "---\n",
    "## 3. Ajustement d'un modèle de régression linéaire\n",
    "\n",
    "Pour cet exemple simple, on n'utilise que le type d'embarcation pour prédire le prix de vente."
   ]
  },
  {
   "cell_type": "markdown",
   "id": "14b3079a",
   "metadata": {},
   "source": [
    "#### 3.1. Ajustement du modèle de régression linéaire"
   ]
  },
  {
   "cell_type": "markdown",
   "id": "459a79ce",
   "metadata": {},
   "source": [
    "## Test pas à pas"
   ]
  },
  {
   "cell_type": "code",
   "execution_count": null,
   "id": "b41adcd2",
   "metadata": {},
   "outputs": [],
   "source": [
    "using GLM\n",
    "\n",
    "explanatory_variables = [:Type, :Classe, :Fabricant, :Modèle, :Année, :Condition, :Longueur, :Largeur, :Poids, :Materiau, \n",
    "                         :Carburant, :Nombre_Moteurs, :Puissance_Moteur, :Type_Moteur, :État, :Mois_Vente, :Année_Vente]\n",
    "\n",
    "rsquared_values = []\n",
    "\n",
    "for var in explanatory_variables\n",
    "    formula = @eval @formula(Prix ~ $var)\n",
    "    model = lm(formula, filtered_train)\n",
    "    rsquared = r2(model)\n",
    "    push!(rsquared_values, (var, rsquared))\n",
    "end\n",
    "\n",
    "for (var, rsquared) in rsquared_values\n",
    "    println(\"$(var): $(rsquared)\")\n",
    "end"
   ]
  },
  {
   "cell_type": "code",
   "execution_count": null,
   "id": "58dfef86",
   "metadata": {},
   "outputs": [],
   "source": [
    "# Creation d'un ensemble d'entrainement et de validation, l'ensemble d'entrainement contient au moins 1 fois chaque modele unique\n",
    "using Distributions\n",
    "using Statistics\n",
    "using Random\n",
    "\n",
    "Random.seed!(3302)\n",
    "\n",
    "ntrain = round(Int, 0.8 * nrow(filtered_train))\n",
    "\n",
    "unique_modeles = unique(filtered_train[:, \"Modèle\"])\n",
    "\n",
    "unique_indexes = Int[]\n",
    "\n",
    "for modele in unique_modeles\n",
    "    index = findfirst(x -> x == modele, filtered_train[:, \"Modèle\"])\n",
    "    push!(unique_indexes, index)\n",
    "end\n",
    "\n",
    "rows_to_exclude = unique_indexes\n",
    "sampling_range = setdiff(1:nrow(filtered_train), rows_to_exclude)\n",
    "\n",
    "train_id = sample(sampling_range, ntrain - length(unique_indexes), replace=false, ordered=true)\n",
    "train_id = vcat(unique_indexes, train_id)\n",
    "valid_id = setdiff(1:nrow(filtered_train), train_id)\n",
    "\n",
    "train_pas = filtered_train[train_id, :]\n",
    "valid_pas = filtered_train[valid_id, :]\n",
    "\n",
    "println(nrow(train_pas))\n",
    "println(nrow(valid_pas))"
   ]
  },
  {
   "cell_type": "code",
   "execution_count": null,
   "id": "4b3f68a5",
   "metadata": {},
   "outputs": [],
   "source": [
    "using StatsModels\n",
    "\n",
    "model_modele = lm(@formula(Prix ~ 0 + Modèle), train_pas) # modele sans ordonnee a l'origine\n",
    "\n",
    "# model_modele = lm(@formula(Prix ~ Modèle), train_pas)\n",
    "# model_modele = lm(term(\"Prix\") ~ term(\"Modèle\"), train_pas)\n",
    "\n",
    "modele_names = coefnames(model_modele)\n",
    "modele_coeffs = coef(model_modele)\n",
    "\n",
    "for i in 1:length(modele_names)\n",
    "    modele_names[i] = strip(split(modele_names[i], \":\")[2])\n",
    "end"
   ]
  },
  {
   "cell_type": "code",
   "execution_count": null,
   "id": "ea148c60",
   "metadata": {},
   "outputs": [],
   "source": [
    "println(size(modele_names))\n",
    "println(size(unique_modeles))\n",
    "\n",
    "println(first(modele_names, 5))\n",
    "\n",
    "unique_names = sort(unique_modeles)\n",
    "println(first(unique_names, 5))\n",
    "\n",
    "# le modele \"10\" aurait ete l'ordonnee a l'origine"
   ]
  },
  {
   "cell_type": "code",
   "execution_count": null,
   "id": "7dd60442",
   "metadata": {},
   "outputs": [],
   "source": [
    "println(modele_coeffs)"
   ]
  },
  {
   "cell_type": "markdown",
   "id": "714332eb",
   "metadata": {},
   "source": [
    "Les valeurs correspondent à celles trouvées avec les notions du cours:"
   ]
  },
  {
   "cell_type": "code",
   "execution_count": null,
   "id": "ca684ca9",
   "metadata": {},
   "outputs": [],
   "source": [
    "n = Int(nobs(model_modele))\n",
    "c = size(modele_names, 1)\n",
    "\n",
    "# X = hcat(ones(n), zeros(n, c-1))\n",
    "X = zeros(n, c)\n",
    "for i in 1:size(X, 1)\n",
    "    index = findfirst(x -> x == train_pas.Modèle[i], modele_names)\n",
    "    if !isa(index, Int)\n",
    "        continue\n",
    "    end\n",
    "    X[i, index] = 1\n",
    "end\n",
    "\n",
    "y = train_pas.Prix\n",
    "β̂ = X\\y\n",
    "\n",
    "println(size(X))\n",
    "println(β̂ )\n",
    "\n",
    "# index = findfirst(x -> x == filtered_train.Modèle[8758], model_names)\n",
    "# println(filtered_train.Modèle[8758])\n",
    "# print(index)"
   ]
  },
  {
   "cell_type": "code",
   "execution_count": null,
   "id": "2069233f",
   "metadata": {},
   "outputs": [],
   "source": [
    "r_squared = r2(model_modele)\n",
    "println(\"Le R² courrant est : $r_squared\")"
   ]
  },
  {
   "cell_type": "code",
   "execution_count": null,
   "id": "bac17733",
   "metadata": {},
   "outputs": [],
   "source": [
    "function rmsle(y_true::Array, y_pred::Array)\n",
    "    log_true = log.(y_true .+ 1)\n",
    "    log_pred = log.(y_pred .+ 1)\n",
    "    squared_diffs = (log_pred .- log_true) .^ 2\n",
    "    mean_squared_log_error = mean(squared_diffs)\n",
    "    return sqrt(mean_squared_log_error)\n",
    "end"
   ]
  },
  {
   "cell_type": "code",
   "execution_count": null,
   "id": "15ad878d",
   "metadata": {},
   "outputs": [],
   "source": [
    "predictions = predict(model_modele, valid_pas)\n",
    "predictions = coalesce.(predictions, 0)\n",
    "predictions = max.(predictions, 0)\n",
    "predictions = min.(predictions, 1000000)\n",
    "rmsle_model = rmsle(valid_pas.Prix, predictions)\n",
    "\n",
    "println(\"Le RMSLE courrant est : $rmsle_model\")\n",
    "\n",
    "first(predictions, 5)"
   ]
  },
  {
   "cell_type": "markdown",
   "id": "35ff0c50",
   "metadata": {},
   "source": [
    "Les valeurs correspondent à celles trouvées avec les notions du cours:"
   ]
  },
  {
   "cell_type": "code",
   "execution_count": null,
   "id": "19501518",
   "metadata": {},
   "outputs": [],
   "source": [
    "# Xpred = Matrix(valid_pas[:, Not(:Prix)])\n",
    "\n",
    "n_valid = size(valid_pas, 1)\n",
    "c = size(modele_names, 1)\n",
    "\n",
    "Xpred = zeros(n_valid, c)\n",
    "for i in 1:size(Xpred, 1)\n",
    "    index = findfirst(x -> x == valid_pas.Modèle[i], modele_names)\n",
    "    if !isa(index, Int)\n",
    "        continue\n",
    "    end\n",
    "    Xpred[i, index] = 1\n",
    "end\n",
    "\n",
    "predictions = Xpred * β̂ \n",
    "predictions = coalesce.(predictions, 0)\n",
    "predictions = max.(predictions, 0)\n",
    "predictions = min.(predictions, 1000000)\n",
    "rmsle_model = rmsle(valid_pas.Prix, predictions)\n",
    "\n",
    "println(\"Le RMSLE courrant est : $rmsle_model\")\n",
    "\n",
    "first(predictions, 5)"
   ]
  },
  {
   "cell_type": "code",
   "execution_count": null,
   "id": "38199b55",
   "metadata": {},
   "outputs": [],
   "source": [
    "function plot_predictions(predictions, real_price)\n",
    "    df = DataFrame(predictions=predictions, real_price=real_price)\n",
    "    sort!(df, [:predictions])\n",
    "    range = 1:length(predictions)\n",
    "    Plots.plot(range, df.real_price[range], seriestype=:scatter, color=:red, label=\"vérité\")\n",
    "    Plots.plot!(range, df.predictions[range], seriestype=:scatter, color=:blue, label=\"prédiction\")\n",
    "    Plots.ylabel!(\"prix\")\n",
    "end"
   ]
  },
  {
   "cell_type": "code",
   "execution_count": null,
   "id": "d4cced14",
   "metadata": {},
   "outputs": [],
   "source": [
    "plot_predictions(predictions, valid_pas.Prix)"
   ]
  },
  {
   "cell_type": "code",
   "execution_count": null,
   "id": "2528dc81",
   "metadata": {},
   "outputs": [],
   "source": [
    "# model = lm(@formula(Prix ~ Modèle+Type+Classe+Fabricant+Année+Condition+Longueur+Largeur+Poids+Materiau+ \n",
    "#                          Carburant+Nombre_Moteurs+Puissance_Moteur+Type_Moteur+État+Mois_Vente+Année_Vente), filtered_train)\n",
    "\n",
    "# model = lm(@formula(Prix ~ Modèle+Année+Condition+Longueur+Carburant+Nombre_Moteurs+Mois_Vente+Année_Vente), filtered_train)\n",
    "\n",
    "model = lm(@formula(Prix ~ Année+Condition+Longueur+Nombre_Moteurs+Mois_Vente+Année_Vente), filtered_train)\n",
    "\n",
    "cn2 = coefnames(model)\n",
    "coef_estimates = coef(model)\n",
    "# println(last(cn2, length(coef_estimates)-length(modele_names)+1))\n",
    "println(cn2)\n",
    "\n",
    "std_errors = stderror(model)\n",
    "z_scores = coef_estimates ./ std_errors\n",
    "# println(last(z_scores, length(coef_estimates)-length(modele_names)+1))\n",
    "println(z_scores)\n",
    "\n",
    "println(size(coef_estimates))\n",
    "println(size(z_scores))\n",
    "\n",
    "predictions = predict(model, valid_pas)\n",
    "predictions = coalesce.(predictions, 0)\n",
    "predictions = max.(predictions, 0)\n",
    "predictions = min.(predictions, 1000000)\n",
    "rmsle_model = rmsle(valid_pas.Prix, predictions)\n",
    "\n",
    "println(\"Le RMSLE courrant est : $rmsle_model\")\n",
    "\n",
    "r_squared = r2(model)\n",
    "println(\"Le R² courrant est : $r_squared\")\n",
    "\n",
    "plot_predictions(predictions, valid_pas.Prix)"
   ]
  },
  {
   "cell_type": "code",
   "execution_count": null,
   "id": "360c7e0f",
   "metadata": {},
   "outputs": [],
   "source": [
    "model_classe = lm(@formula(Prix ~ Classe), train_pas)\n",
    "\n",
    "predictions = predict(model_classe, valid_pas)\n",
    "predictions = coalesce.(predictions, 0)\n",
    "predictions = max.(predictions, 0)\n",
    "predictions = min.(predictions, 1000000)\n",
    "rmsle_model = rmsle(valid_pas.Prix, predictions)\n",
    "\n",
    "println(\"Le RMSLE courrant est : $rmsle_model\")\n",
    "\n",
    "first(predictions, 5)"
   ]
  },
  {
   "cell_type": "code",
   "execution_count": null,
   "id": "2a852d2a",
   "metadata": {},
   "outputs": [],
   "source": [
    "# on utilise tous les donnees maintenant\n",
    "\n",
    "model_modele = lm(@formula(Prix ~ 0 + Modèle), filtered_train)\n",
    "model_classe = lm(@formula(Prix ~ 0 + Classe), filtered_train)\n",
    "model3 = lm(@formula(Prix ~ Année+Condition+Longueur+Nombre_Moteurs+Mois_Vente+Année_Vente), filtered_train)"
   ]
  },
  {
   "cell_type": "code",
   "execution_count": null,
   "id": "45cfd226",
   "metadata": {},
   "outputs": [],
   "source": [
    "classe_names = coefnames(model_classe)\n",
    "\n",
    "for i in 1:length(classe_names)\n",
    "    classe_names[i] = strip(split(classe_names[i], \":\")[2])\n",
    "end"
   ]
  },
  {
   "cell_type": "code",
   "execution_count": null,
   "id": "88d2b451",
   "metadata": {},
   "outputs": [],
   "source": [
    "test = CSV.read(\"data/test.csv\", DataFrame)\n",
    "\n",
    "missing_modeles = []\n",
    "for i in eachindex(test.Modèle)\n",
    "    if ismissing(test.Modèle[i]) || !(test.Modèle[i] in modele_names)\n",
    "        push!(missing_modeles, i)\n",
    "        test.Modèle[i] = \"10\" # on remplace le modele par un placeholder juste pour l'instant\n",
    "    end\n",
    "end\n",
    "\n",
    "missing_classes = []\n",
    "for i in eachindex(test.Classe)\n",
    "    if ismissing(test.Classe[i]) || !(test.Classe[i] in classe_names)\n",
    "        push!(missing_classes, i)\n",
    "        test.Classe[i] = \"power-airboat\" # on remplace la classe par un placeholder juste pour l'instant\n",
    "    end\n",
    "end\n",
    "\n",
    "predictions = predict(model_modele, test)\n",
    "pred2 = predict(model_classe, test)\n",
    "\n",
    "for index in missing_modeles\n",
    "    predictions[index] = pred2[index]\n",
    "end\n",
    "\n",
    "missing_both = intersect(missing_modeles, missing_classes)\n",
    "pred3 = predict(model3, test)\n",
    "\n",
    "for index in missing_both\n",
    "    predictions[index] = pred3[index]\n",
    "end\n",
    "\n",
    "predictions = coalesce.(predictions, 0)\n",
    "predictions = max.(predictions, 0)\n",
    "predictions = min.(predictions, 1000000)"
   ]
  },
  {
   "cell_type": "markdown",
   "id": "6ee10301",
   "metadata": {},
   "source": [
    "---\n",
    "## 4. Estimation du prix de vente de l'ensemble de test\n",
    "\n",
    "On utilise le modèle simple de la section précédente pour le nombre de passages pour chacune des embarcations de l'ensemble de test.\n",
    "\n",
    "#### 4.1 Chargement des données de l'ensemble de test"
   ]
  },
  {
   "cell_type": "markdown",
   "id": "c568fb55",
   "metadata": {},
   "source": [
    "#### 4.2 Prédictions"
   ]
  },
  {
   "cell_type": "markdown",
   "id": "64485ae0",
   "metadata": {},
   "source": [
    "#### 4.4 Préparation du fichier des préditions pour téléverser sur Kaggle\n",
    "\n",
    "Le fichier *benchmark_predictions.csv* généré peut être téléversé sur Kaggle. Il est composé d'une colonne d'identifiants (:ID) et d'une colonne de la prédiction (:Prix)."
   ]
  },
  {
   "cell_type": "code",
   "execution_count": null,
   "id": "7bbb3147",
   "metadata": {},
   "outputs": [],
   "source": [
    "benchmark_predictions = DataFrame(ID = test.ID, Prix=predictions)\n",
    "first(benchmark_predictions, 5)"
   ]
  },
  {
   "cell_type": "code",
   "execution_count": null,
   "id": "cc65a1ac",
   "metadata": {},
   "outputs": [],
   "source": [
    "CSV.write(\"benchmark_predictions.csv\", benchmark_predictions)"
   ]
  }
 ],
 "metadata": {
  "@webio": {
   "lastCommId": null,
   "lastKernelId": null
  },
  "hide_input": false,
  "kernelspec": {
   "display_name": "Julia 1.10.2",
   "language": "julia",
   "name": "julia-1.10"
  },
  "language_info": {
   "file_extension": ".jl",
   "mimetype": "application/julia",
   "name": "julia",
   "version": "1.10.2"
  }
 },
 "nbformat": 4,
 "nbformat_minor": 5
}
